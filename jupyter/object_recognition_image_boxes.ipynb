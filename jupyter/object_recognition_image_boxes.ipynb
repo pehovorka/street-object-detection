{
 "cells": [
  {
   "cell_type": "code",
   "execution_count": 3,
   "metadata": {
    "colab": {
     "base_uri": "https://localhost:8080/"
    },
    "executionInfo": {
     "elapsed": 3687,
     "status": "ok",
     "timestamp": 1621699877931,
     "user": {
      "displayName": "Petr Hovorka",
      "photoUrl": "",
      "userId": "00305406887736674714"
     },
     "user_tz": -120
    },
    "id": "F48OrHm0oL_i",
    "outputId": "5e2df0c0-f4fe-474a-bf45-aa7622f45a3a"
   },
   "outputs": [
    {
     "name": "stdout",
     "output_type": "stream",
     "text": [
      "Defaulting to user installation because normal site-packages is not writeable\n",
      "Requirement already satisfied: grpcio==1.34 in /home/pehovorka/.local/lib/python3.9/site-packages (1.34.0)\n",
      "Requirement already satisfied: six>=1.5.2 in /home/pehovorka/.local/lib/python3.9/site-packages (from grpcio==1.34) (1.15.0)\n",
      "\u001b[33mWARNING: You are using pip version 21.1.1; however, version 21.1.2 is available.\n",
      "You should consider upgrading via the '/usr/local/bin/python3.9 -m pip install --upgrade pip' command.\u001b[0m\n"
     ]
    }
   ],
   "source": [
    "import os\n",
    "import pathlib\n",
    "\n",
    "# Clone the tensorflow models repository if it doesn't already exist\n",
    "if \"models\" in pathlib.Path.cwd().parts:\n",
    "  while \"models\" in pathlib.Path.cwd().parts:\n",
    "    os.chdir('..')\n",
    "elif not pathlib.Path('models').exists():\n",
    "  !git clone --depth 1 https://github.com/tensorflow/models\n",
    "\n",
    "! pip3 install grpcio==1.34\n"
   ]
  },
  {
   "cell_type": "code",
   "execution_count": 4,
   "metadata": {
    "colab": {
     "base_uri": "https://localhost:8080/"
    },
    "executionInfo": {
     "elapsed": 13565,
     "status": "ok",
     "timestamp": 1621699901623,
     "user": {
      "displayName": "Petr Hovorka",
      "photoUrl": "",
      "userId": "00305406887736674714"
     },
     "user_tz": -120
    },
    "id": "8yw_QrippIEh",
    "outputId": "38c19c03-3e6b-4ceb-a0f2-26fd9fcec80e"
   },
   "outputs": [
    {
     "name": "stdout",
     "output_type": "stream",
     "text": [
      "Defaulting to user installation because normal site-packages is not writeable\n",
      "Processing /home/pehovorka/Dokumenty/street-object-detection/jupyter/models/research\n",
      "Requirement already satisfied: avro-python3 in /home/pehovorka/.local/lib/python3.9/site-packages (from object-detection==0.1) (1.9.2.1)\n",
      "Requirement already satisfied: apache-beam in /home/pehovorka/.local/lib/python3.9/site-packages (from object-detection==0.1) (2.29.0)\n",
      "Requirement already satisfied: pillow in /home/pehovorka/.local/lib/python3.9/site-packages (from object-detection==0.1) (8.2.0)\n",
      "Requirement already satisfied: lxml in /home/pehovorka/.local/lib/python3.9/site-packages (from object-detection==0.1) (4.6.3)\n",
      "Requirement already satisfied: matplotlib in /home/pehovorka/.local/lib/python3.9/site-packages (from object-detection==0.1) (3.4.2)\n",
      "Requirement already satisfied: Cython in /home/pehovorka/.local/lib/python3.9/site-packages (from object-detection==0.1) (0.29.23)\n",
      "Requirement already satisfied: contextlib2 in /home/pehovorka/.local/lib/python3.9/site-packages (from object-detection==0.1) (0.6.0.post1)\n",
      "Requirement already satisfied: tf-slim in /home/pehovorka/.local/lib/python3.9/site-packages (from object-detection==0.1) (1.1.0)\n",
      "Requirement already satisfied: six in /home/pehovorka/.local/lib/python3.9/site-packages (from object-detection==0.1) (1.15.0)\n",
      "Requirement already satisfied: pycocotools in /home/pehovorka/.local/lib/python3.9/site-packages (from object-detection==0.1) (2.0.2)\n",
      "Requirement already satisfied: lvis in /home/pehovorka/.local/lib/python3.9/site-packages (from object-detection==0.1) (0.5.3)\n",
      "Requirement already satisfied: scipy in /home/pehovorka/.local/lib/python3.9/site-packages (from object-detection==0.1) (1.6.3)\n",
      "Requirement already satisfied: pandas in /home/pehovorka/.local/lib/python3.9/site-packages (from object-detection==0.1) (1.2.4)\n",
      "Requirement already satisfied: tf-models-official in /home/pehovorka/.local/lib/python3.9/site-packages (from object-detection==0.1) (2.5.0)\n",
      "Requirement already satisfied: crcmod<2.0,>=1.7 in /home/pehovorka/.local/lib/python3.9/site-packages (from apache-beam->object-detection==0.1) (1.7)\n",
      "Requirement already satisfied: hdfs<3.0.0,>=2.1.0 in /home/pehovorka/.local/lib/python3.9/site-packages (from apache-beam->object-detection==0.1) (2.6.0)\n",
      "Requirement already satisfied: pyarrow<4.0.0,>=0.15.1 in /home/pehovorka/.local/lib/python3.9/site-packages (from apache-beam->object-detection==0.1) (3.0.0)\n",
      "Requirement already satisfied: typing-extensions<3.8.0,>=3.7.0 in /home/pehovorka/.local/lib/python3.9/site-packages (from apache-beam->object-detection==0.1) (3.7.4.3)\n",
      "Requirement already satisfied: dill<0.3.2,>=0.3.1.1 in /home/pehovorka/.local/lib/python3.9/site-packages (from apache-beam->object-detection==0.1) (0.3.1.1)\n",
      "Requirement already satisfied: grpcio<2,>=1.29.0 in /home/pehovorka/.local/lib/python3.9/site-packages (from apache-beam->object-detection==0.1) (1.34.0)\n",
      "Requirement already satisfied: pymongo<4.0.0,>=3.8.0 in /home/pehovorka/.local/lib/python3.9/site-packages (from apache-beam->object-detection==0.1) (3.11.4)\n",
      "Requirement already satisfied: pydot<2,>=1.2.0 in /home/pehovorka/.local/lib/python3.9/site-packages (from apache-beam->object-detection==0.1) (1.4.2)\n",
      "Requirement already satisfied: future<1.0.0,>=0.18.2 in /home/pehovorka/.local/lib/python3.9/site-packages (from apache-beam->object-detection==0.1) (0.18.2)\n",
      "Requirement already satisfied: python-dateutil<3,>=2.8.0 in /home/pehovorka/.local/lib/python3.9/site-packages (from apache-beam->object-detection==0.1) (2.8.1)\n",
      "Requirement already satisfied: httplib2<0.18.0,>=0.8 in /home/pehovorka/.local/lib/python3.9/site-packages (from apache-beam->object-detection==0.1) (0.17.4)\n",
      "Requirement already satisfied: oauth2client<5,>=2.0.1 in /home/pehovorka/.local/lib/python3.9/site-packages (from apache-beam->object-detection==0.1) (4.1.3)\n",
      "Requirement already satisfied: pytz>=2018.3 in /home/pehovorka/.local/lib/python3.9/site-packages (from apache-beam->object-detection==0.1) (2021.1)\n",
      "Requirement already satisfied: requests<3.0.0,>=2.24.0 in /home/pehovorka/.local/lib/python3.9/site-packages (from apache-beam->object-detection==0.1) (2.25.1)\n",
      "Requirement already satisfied: numpy<1.21.0,>=1.14.3 in /home/pehovorka/.local/lib/python3.9/site-packages (from apache-beam->object-detection==0.1) (1.19.5)\n",
      "Requirement already satisfied: fastavro<2,>=0.21.4 in /home/pehovorka/.local/lib/python3.9/site-packages (from apache-beam->object-detection==0.1) (1.4.1)\n",
      "Requirement already satisfied: protobuf<4,>=3.12.2 in /home/pehovorka/.local/lib/python3.9/site-packages (from apache-beam->object-detection==0.1) (3.17.0)\n",
      "Requirement already satisfied: docopt in /home/pehovorka/.local/lib/python3.9/site-packages (from hdfs<3.0.0,>=2.1.0->apache-beam->object-detection==0.1) (0.6.2)\n",
      "Requirement already satisfied: pyasn1-modules>=0.0.5 in /home/pehovorka/.local/lib/python3.9/site-packages (from oauth2client<5,>=2.0.1->apache-beam->object-detection==0.1) (0.2.8)\n",
      "Requirement already satisfied: pyasn1>=0.1.7 in /home/pehovorka/.local/lib/python3.9/site-packages (from oauth2client<5,>=2.0.1->apache-beam->object-detection==0.1) (0.4.8)\n",
      "Requirement already satisfied: rsa>=3.1.4 in /home/pehovorka/.local/lib/python3.9/site-packages (from oauth2client<5,>=2.0.1->apache-beam->object-detection==0.1) (4.7.2)\n",
      "Requirement already satisfied: pyparsing>=2.1.4 in /home/pehovorka/.local/lib/python3.9/site-packages (from pydot<2,>=1.2.0->apache-beam->object-detection==0.1) (2.4.7)\n",
      "Requirement already satisfied: certifi>=2017.4.17 in /home/pehovorka/.local/lib/python3.9/site-packages (from requests<3.0.0,>=2.24.0->apache-beam->object-detection==0.1) (2020.12.5)\n",
      "Requirement already satisfied: idna<3,>=2.5 in /home/pehovorka/.local/lib/python3.9/site-packages (from requests<3.0.0,>=2.24.0->apache-beam->object-detection==0.1) (2.10)\n",
      "Requirement already satisfied: urllib3<1.27,>=1.21.1 in /home/pehovorka/.local/lib/python3.9/site-packages (from requests<3.0.0,>=2.24.0->apache-beam->object-detection==0.1) (1.26.4)\n",
      "Requirement already satisfied: chardet<5,>=3.0.2 in /home/pehovorka/.local/lib/python3.9/site-packages (from requests<3.0.0,>=2.24.0->apache-beam->object-detection==0.1) (4.0.0)\n",
      "Requirement already satisfied: opencv-python>=4.1.0.25 in /home/pehovorka/.local/lib/python3.9/site-packages (from lvis->object-detection==0.1) (4.5.2.52)\n",
      "Requirement already satisfied: kiwisolver>=1.1.0 in /home/pehovorka/.local/lib/python3.9/site-packages (from lvis->object-detection==0.1) (1.3.1)\n",
      "Requirement already satisfied: cycler>=0.10.0 in /home/pehovorka/.local/lib/python3.9/site-packages (from lvis->object-detection==0.1) (0.10.0)\n",
      "Requirement already satisfied: setuptools>=18.0 in /usr/local/lib/python3.9/site-packages (from pycocotools->object-detection==0.1) (56.0.0)\n",
      "Requirement already satisfied: seqeval in /home/pehovorka/.local/lib/python3.9/site-packages (from tf-models-official->object-detection==0.1) (1.2.2)\n",
      "Requirement already satisfied: tensorflow>=2.5.0 in /home/pehovorka/.local/lib/python3.9/site-packages (from tf-models-official->object-detection==0.1) (2.5.0)\n",
      "Requirement already satisfied: gin-config in /home/pehovorka/.local/lib/python3.9/site-packages (from tf-models-official->object-detection==0.1) (0.4.0)\n",
      "Requirement already satisfied: opencv-python-headless in /home/pehovorka/.local/lib/python3.9/site-packages (from tf-models-official->object-detection==0.1) (4.5.2.52)\n",
      "Requirement already satisfied: psutil>=5.4.3 in /home/pehovorka/.local/lib/python3.9/site-packages (from tf-models-official->object-detection==0.1) (5.8.0)\n",
      "Requirement already satisfied: tensorflow-hub>=0.6.0 in /home/pehovorka/.local/lib/python3.9/site-packages (from tf-models-official->object-detection==0.1) (0.12.0)\n",
      "Requirement already satisfied: pyyaml>=5.1 in /home/pehovorka/.local/lib/python3.9/site-packages (from tf-models-official->object-detection==0.1) (5.4.1)\n",
      "Requirement already satisfied: py-cpuinfo>=3.3.0 in /home/pehovorka/.local/lib/python3.9/site-packages (from tf-models-official->object-detection==0.1) (8.0.0)\n",
      "Requirement already satisfied: tensorflow-datasets in /home/pehovorka/.local/lib/python3.9/site-packages (from tf-models-official->object-detection==0.1) (4.3.0)\n",
      "Requirement already satisfied: sacrebleu in /home/pehovorka/.local/lib/python3.9/site-packages (from tf-models-official->object-detection==0.1) (1.5.1)\n",
      "Requirement already satisfied: google-api-python-client>=1.6.7 in /home/pehovorka/.local/lib/python3.9/site-packages (from tf-models-official->object-detection==0.1) (2.5.0)\n",
      "Requirement already satisfied: sentencepiece in /home/pehovorka/.local/lib/python3.9/site-packages (from tf-models-official->object-detection==0.1) (0.1.95)\n",
      "Requirement already satisfied: kaggle>=1.3.9 in /home/pehovorka/.local/lib/python3.9/site-packages (from tf-models-official->object-detection==0.1) (1.5.12)\n",
      "Requirement already satisfied: google-cloud-bigquery>=0.31.0 in /home/pehovorka/.local/lib/python3.9/site-packages (from tf-models-official->object-detection==0.1) (2.17.0)\n",
      "Requirement already satisfied: tensorflow-addons in /home/pehovorka/.local/lib/python3.9/site-packages (from tf-models-official->object-detection==0.1) (0.13.0)\n",
      "Requirement already satisfied: tensorflow-model-optimization>=0.4.1 in /home/pehovorka/.local/lib/python3.9/site-packages (from tf-models-official->object-detection==0.1) (0.5.0)\n",
      "Requirement already satisfied: google-auth<2dev,>=1.16.0 in /home/pehovorka/.local/lib/python3.9/site-packages (from google-api-python-client>=1.6.7->tf-models-official->object-detection==0.1) (1.30.0)\n",
      "Requirement already satisfied: google-auth-httplib2>=0.1.0 in /home/pehovorka/.local/lib/python3.9/site-packages (from google-api-python-client>=1.6.7->tf-models-official->object-detection==0.1) (0.1.0)\n",
      "Requirement already satisfied: uritemplate<4dev,>=3.0.0 in /home/pehovorka/.local/lib/python3.9/site-packages (from google-api-python-client>=1.6.7->tf-models-official->object-detection==0.1) (3.0.1)\n",
      "Requirement already satisfied: google-api-core<2dev,>=1.21.0 in /home/pehovorka/.local/lib/python3.9/site-packages (from google-api-python-client>=1.6.7->tf-models-official->object-detection==0.1) (1.28.0)\n",
      "Requirement already satisfied: googleapis-common-protos<2.0dev,>=1.6.0 in /home/pehovorka/.local/lib/python3.9/site-packages (from google-api-core<2dev,>=1.21.0->google-api-python-client>=1.6.7->tf-models-official->object-detection==0.1) (1.53.0)\n",
      "Requirement already satisfied: packaging>=14.3 in /home/pehovorka/.local/lib/python3.9/site-packages (from google-api-core<2dev,>=1.21.0->google-api-python-client>=1.6.7->tf-models-official->object-detection==0.1) (20.9)\n",
      "Requirement already satisfied: cachetools<5.0,>=2.0.0 in /home/pehovorka/.local/lib/python3.9/site-packages (from google-auth<2dev,>=1.16.0->google-api-python-client>=1.6.7->tf-models-official->object-detection==0.1) (4.2.2)\n",
      "Requirement already satisfied: google-resumable-media<2.0dev,>=0.6.0 in /home/pehovorka/.local/lib/python3.9/site-packages (from google-cloud-bigquery>=0.31.0->tf-models-official->object-detection==0.1) (1.3.0)\n",
      "Requirement already satisfied: google-cloud-core<2.0dev,>=1.4.1 in /home/pehovorka/.local/lib/python3.9/site-packages (from google-cloud-bigquery>=0.31.0->tf-models-official->object-detection==0.1) (1.6.0)\n",
      "Requirement already satisfied: proto-plus>=1.10.0 in /home/pehovorka/.local/lib/python3.9/site-packages (from google-cloud-bigquery>=0.31.0->tf-models-official->object-detection==0.1) (1.18.1)\n",
      "Requirement already satisfied: google-crc32c<2.0dev,>=1.0 in /home/pehovorka/.local/lib/python3.9/site-packages (from google-resumable-media<2.0dev,>=0.6.0->google-cloud-bigquery>=0.31.0->tf-models-official->object-detection==0.1) (1.1.2)\n",
      "Requirement already satisfied: cffi>=1.0.0 in /home/pehovorka/.local/lib/python3.9/site-packages (from google-crc32c<2.0dev,>=1.0->google-resumable-media<2.0dev,>=0.6.0->google-cloud-bigquery>=0.31.0->tf-models-official->object-detection==0.1) (1.14.5)\n",
      "Requirement already satisfied: pycparser in /home/pehovorka/.local/lib/python3.9/site-packages (from cffi>=1.0.0->google-crc32c<2.0dev,>=1.0->google-resumable-media<2.0dev,>=0.6.0->google-cloud-bigquery>=0.31.0->tf-models-official->object-detection==0.1) (2.20)\n",
      "Requirement already satisfied: tqdm in /home/pehovorka/.local/lib/python3.9/site-packages (from kaggle>=1.3.9->tf-models-official->object-detection==0.1) (4.60.0)\n",
      "Requirement already satisfied: python-slugify in /home/pehovorka/.local/lib/python3.9/site-packages (from kaggle>=1.3.9->tf-models-official->object-detection==0.1) (5.0.2)\n",
      "Requirement already satisfied: flatbuffers~=1.12.0 in /home/pehovorka/.local/lib/python3.9/site-packages (from tensorflow>=2.5.0->tf-models-official->object-detection==0.1) (1.12)\n",
      "Requirement already satisfied: absl-py~=0.10 in /home/pehovorka/.local/lib/python3.9/site-packages (from tensorflow>=2.5.0->tf-models-official->object-detection==0.1) (0.12.0)\n",
      "Requirement already satisfied: h5py~=3.1.0 in /home/pehovorka/.local/lib/python3.9/site-packages (from tensorflow>=2.5.0->tf-models-official->object-detection==0.1) (3.1.0)\n",
      "Requirement already satisfied: astunparse~=1.6.3 in /home/pehovorka/.local/lib/python3.9/site-packages (from tensorflow>=2.5.0->tf-models-official->object-detection==0.1) (1.6.3)\n",
      "Requirement already satisfied: keras-nightly~=2.5.0.dev in /home/pehovorka/.local/lib/python3.9/site-packages (from tensorflow>=2.5.0->tf-models-official->object-detection==0.1) (2.5.0.dev2021032900)\n",
      "Requirement already satisfied: termcolor~=1.1.0 in /home/pehovorka/.local/lib/python3.9/site-packages (from tensorflow>=2.5.0->tf-models-official->object-detection==0.1) (1.1.0)\n",
      "Requirement already satisfied: google-pasta~=0.2 in /home/pehovorka/.local/lib/python3.9/site-packages (from tensorflow>=2.5.0->tf-models-official->object-detection==0.1) (0.2.0)\n",
      "Requirement already satisfied: keras-preprocessing~=1.1.2 in /home/pehovorka/.local/lib/python3.9/site-packages (from tensorflow>=2.5.0->tf-models-official->object-detection==0.1) (1.1.2)\n",
      "Requirement already satisfied: opt-einsum~=3.3.0 in /home/pehovorka/.local/lib/python3.9/site-packages (from tensorflow>=2.5.0->tf-models-official->object-detection==0.1) (3.3.0)\n",
      "Requirement already satisfied: wheel~=0.35 in /home/pehovorka/.local/lib/python3.9/site-packages (from tensorflow>=2.5.0->tf-models-official->object-detection==0.1) (0.36.2)\n",
      "Requirement already satisfied: tensorboard~=2.5 in /home/pehovorka/.local/lib/python3.9/site-packages (from tensorflow>=2.5.0->tf-models-official->object-detection==0.1) (2.5.0)\n",
      "Requirement already satisfied: tensorflow-estimator<2.6.0,>=2.5.0rc0 in /home/pehovorka/.local/lib/python3.9/site-packages (from tensorflow>=2.5.0->tf-models-official->object-detection==0.1) (2.5.0)\n",
      "Requirement already satisfied: gast==0.4.0 in /home/pehovorka/.local/lib/python3.9/site-packages (from tensorflow>=2.5.0->tf-models-official->object-detection==0.1) (0.4.0)\n",
      "Requirement already satisfied: wrapt~=1.12.1 in /home/pehovorka/.local/lib/python3.9/site-packages (from tensorflow>=2.5.0->tf-models-official->object-detection==0.1) (1.12.1)\n",
      "Requirement already satisfied: tensorboard-plugin-wit>=1.6.0 in /home/pehovorka/.local/lib/python3.9/site-packages (from tensorboard~=2.5->tensorflow>=2.5.0->tf-models-official->object-detection==0.1) (1.8.0)\n",
      "Requirement already satisfied: werkzeug>=0.11.15 in /home/pehovorka/.local/lib/python3.9/site-packages (from tensorboard~=2.5->tensorflow>=2.5.0->tf-models-official->object-detection==0.1) (2.0.1)\n",
      "Requirement already satisfied: markdown>=2.6.8 in /home/pehovorka/.local/lib/python3.9/site-packages (from tensorboard~=2.5->tensorflow>=2.5.0->tf-models-official->object-detection==0.1) (3.3.4)\n",
      "Requirement already satisfied: tensorboard-data-server<0.7.0,>=0.6.0 in /home/pehovorka/.local/lib/python3.9/site-packages (from tensorboard~=2.5->tensorflow>=2.5.0->tf-models-official->object-detection==0.1) (0.6.1)\n",
      "Requirement already satisfied: google-auth-oauthlib<0.5,>=0.4.1 in /home/pehovorka/.local/lib/python3.9/site-packages (from tensorboard~=2.5->tensorflow>=2.5.0->tf-models-official->object-detection==0.1) (0.4.4)\n",
      "Requirement already satisfied: requests-oauthlib>=0.7.0 in /home/pehovorka/.local/lib/python3.9/site-packages (from google-auth-oauthlib<0.5,>=0.4.1->tensorboard~=2.5->tensorflow>=2.5.0->tf-models-official->object-detection==0.1) (1.3.0)\n",
      "Requirement already satisfied: oauthlib>=3.0.0 in /home/pehovorka/.local/lib/python3.9/site-packages (from requests-oauthlib>=0.7.0->google-auth-oauthlib<0.5,>=0.4.1->tensorboard~=2.5->tensorflow>=2.5.0->tf-models-official->object-detection==0.1) (3.1.0)\n",
      "Requirement already satisfied: dm-tree~=0.1.1 in /home/pehovorka/.local/lib/python3.9/site-packages (from tensorflow-model-optimization>=0.4.1->tf-models-official->object-detection==0.1) (0.1.6)\n",
      "Requirement already satisfied: text-unidecode>=1.3 in /home/pehovorka/.local/lib/python3.9/site-packages (from python-slugify->kaggle>=1.3.9->tf-models-official->object-detection==0.1) (1.3)\n",
      "Requirement already satisfied: portalocker==2.0.0 in /home/pehovorka/.local/lib/python3.9/site-packages (from sacrebleu->tf-models-official->object-detection==0.1) (2.0.0)\n",
      "Requirement already satisfied: scikit-learn>=0.21.3 in /home/pehovorka/.local/lib/python3.9/site-packages (from seqeval->tf-models-official->object-detection==0.1) (0.24.2)\n",
      "Requirement already satisfied: threadpoolctl>=2.0.0 in /home/pehovorka/.local/lib/python3.9/site-packages (from scikit-learn>=0.21.3->seqeval->tf-models-official->object-detection==0.1) (2.1.0)\n",
      "Requirement already satisfied: joblib>=0.11 in /home/pehovorka/.local/lib/python3.9/site-packages (from scikit-learn>=0.21.3->seqeval->tf-models-official->object-detection==0.1) (1.0.1)\n",
      "Requirement already satisfied: typeguard>=2.7 in /home/pehovorka/.local/lib/python3.9/site-packages (from tensorflow-addons->tf-models-official->object-detection==0.1) (2.12.0)\n",
      "Requirement already satisfied: promise in /home/pehovorka/.local/lib/python3.9/site-packages (from tensorflow-datasets->tf-models-official->object-detection==0.1) (2.3)\n",
      "Requirement already satisfied: attrs>=18.1.0 in /home/pehovorka/.local/lib/python3.9/site-packages (from tensorflow-datasets->tf-models-official->object-detection==0.1) (21.2.0)\n",
      "Requirement already satisfied: tensorflow-metadata in /home/pehovorka/.local/lib/python3.9/site-packages (from tensorflow-datasets->tf-models-official->object-detection==0.1) (1.0.0)\n",
      "Building wheels for collected packages: object-detection\n",
      "  Building wheel for object-detection (setup.py): started\n",
      "  Building wheel for object-detection (setup.py): finished with status 'done'\n",
      "  Created wheel for object-detection: filename=object_detection-0.1-py3-none-any.whl size=1655595 sha256=da48161dd6f2d0255ddd02733e294bb0936f6d00c61389b7bdea05a6d11bf86a\n",
      "  Stored in directory: /tmp/pip-ephem-wheel-cache-4dj5t9en/wheels/71/54/f4/cac2879c6027b419023b1cbc083102bd9091f71dd67b40e9bd\n",
      "Successfully built object-detection\n",
      "Installing collected packages: object-detection\n",
      "  Attempting uninstall: object-detection\n",
      "    Found existing installation: object-detection 0.1\n",
      "    Uninstalling object-detection-0.1:\n",
      "      Successfully uninstalled object-detection-0.1\n",
      "Successfully installed object-detection-0.1\n"
     ]
    },
    {
     "name": "stderr",
     "output_type": "stream",
     "text": [
      "  DEPRECATION: A future pip version will change local packages to be built in-place without first copying to a temporary directory. We recommend you use --use-feature=in-tree-build to test your packages with this new behavior before it becomes the default.\n",
      "   pip 21.3 will remove support for this functionality. You can find discussion regarding this at https://github.com/pypa/pip/issues/7555.\n",
      "WARNING: You are using pip version 21.1.1; however, version 21.1.2 is available.\n",
      "You should consider upgrading via the '/usr/local/bin/python3.9 -m pip install --upgrade pip' command.\n",
      "2021-06-19 22:58:30.301357: I tensorflow/stream_executor/platform/default/dso_loader.cc:53] Successfully opened dynamic library libcudart.so.11.0\n"
     ]
    }
   ],
   "source": [
    "%%bash\n",
    "\n",
    "cd models/research/\n",
    "\n",
    "protoc object_detection/protos/*.proto --python_out=.\n",
    "\n",
    "cp object_detection/packages/tf2/setup.py .\n",
    "pip3 install .\n",
    "\n",
    "python3 object_detection/builders/model_builder_test.py"
   ]
  },
  {
   "cell_type": "markdown",
   "metadata": {},
   "source": [
    "# From the root of the git repository\n",
    "! docker build -f research/object_detection/dockerfiles/tf2/Dockerfile -t od .\n",
    "! docker run -it od"
   ]
  },
  {
   "cell_type": "code",
   "execution_count": 5,
   "metadata": {
    "colab": {
     "base_uri": "https://localhost:8080/"
    },
    "executionInfo": {
     "elapsed": 2008,
     "status": "ok",
     "timestamp": 1621699903625,
     "user": {
      "displayName": "Petr Hovorka",
      "photoUrl": "",
      "userId": "00305406887736674714"
     },
     "user_tz": -120
    },
    "id": "AD7zFoF_onbl",
    "outputId": "a80f9647-fec7-4fc7-ac31-bc799cdc7ca6"
   },
   "outputs": [
    {
     "name": "stdout",
     "output_type": "stream",
     "text": [
      "/home/pehovorka/Dokumenty/street-object-detection/jupyter/models/research\n"
     ]
    }
   ],
   "source": [
    "import io\n",
    "import scipy.misc\n",
    "import numpy as np\n",
    "import six\n",
    "import time\n",
    "\n",
    "from six import BytesIO\n",
    "\n",
    "import matplotlib\n",
    "import matplotlib.pyplot as plt\n",
    "from PIL import Image, ImageDraw, ImageFont\n",
    "\n",
    "import tensorflow as tf\n",
    "\n",
    "%cd models/research\n",
    "from object_detection.utils import visualization_utils as viz_utils\n",
    "\n",
    "\n",
    "\n",
    "%matplotlib inline"
   ]
  },
  {
   "cell_type": "code",
   "execution_count": 6,
   "metadata": {
    "executionInfo": {
     "elapsed": 9,
     "status": "ok",
     "timestamp": 1621699393535,
     "user": {
      "displayName": "Petr Hovorka",
      "photoUrl": "",
      "userId": "00305406887736674714"
     },
     "user_tz": -120
    },
    "id": "DPIo6sABq7c9"
   },
   "outputs": [],
   "source": [
    "def load_image_into_numpy_array(path):\n",
    "  \"\"\"Load an image from file into a numpy array.\n",
    "\n",
    "  Puts image into numpy array to feed into tensorflow graph.\n",
    "  Note that by convention we put it into a numpy array with shape\n",
    "  (height, width, channels), where channels=3 for RGB.\n",
    "\n",
    "  Args:\n",
    "    path: a file path (this can be local or on colossus)\n",
    "\n",
    "  Returns:\n",
    "    uint8 numpy array with shape (img_height, img_width, 3)\n",
    "  \"\"\"\n",
    "  img_data = tf.io.gfile.GFile(path, 'rb').read()\n",
    "  image = Image.open(BytesIO(img_data))\n",
    "  (im_width, im_height) = image.size\n",
    "  return np.array(image.getdata()).reshape(\n",
    "      (im_height, im_width, 3)).astype(np.uint8)\n",
    "\n",
    "# Load the COCO Label Map\n",
    "category_index = {\n",
    "    1: {'id': 1, 'name': 'person'},\n",
    "    2: {'id': 2, 'name': 'bicycle'},\n",
    "    3: {'id': 3, 'name': 'car'},\n",
    "    4: {'id': 4, 'name': 'motorcycle'},\n",
    "    5: {'id': 5, 'name': 'airplane'},\n",
    "    6: {'id': 6, 'name': 'bus'},\n",
    "    7: {'id': 7, 'name': 'train'},\n",
    "    8: {'id': 8, 'name': 'truck'},\n",
    "    9: {'id': 9, 'name': 'boat'},\n",
    "    10: {'id': 10, 'name': 'traffic light'},\n",
    "    11: {'id': 11, 'name': 'fire hydrant'},\n",
    "    13: {'id': 13, 'name': 'stop sign'},\n",
    "    14: {'id': 14, 'name': 'parking meter'},\n",
    "    15: {'id': 15, 'name': 'bench'},\n",
    "    16: {'id': 16, 'name': 'bird'},\n",
    "    17: {'id': 17, 'name': 'cat'},\n",
    "    18: {'id': 18, 'name': 'dog'},\n",
    "    19: {'id': 19, 'name': 'horse'},\n",
    "    20: {'id': 20, 'name': 'sheep'},\n",
    "    21: {'id': 21, 'name': 'cow'},\n",
    "    22: {'id': 22, 'name': 'elephant'},\n",
    "    23: {'id': 23, 'name': 'bear'},\n",
    "    24: {'id': 24, 'name': 'zebra'},\n",
    "    25: {'id': 25, 'name': 'giraffe'},\n",
    "    27: {'id': 27, 'name': 'backpack'},\n",
    "    28: {'id': 28, 'name': 'umbrella'},\n",
    "    31: {'id': 31, 'name': 'handbag'},\n",
    "    32: {'id': 32, 'name': 'tie'},\n",
    "    33: {'id': 33, 'name': 'suitcase'},\n",
    "    34: {'id': 34, 'name': 'frisbee'},\n",
    "    35: {'id': 35, 'name': 'skis'},\n",
    "    36: {'id': 36, 'name': 'snowboard'},\n",
    "    37: {'id': 37, 'name': 'sports ball'},\n",
    "    38: {'id': 38, 'name': 'kite'},\n",
    "    39: {'id': 39, 'name': 'baseball bat'},\n",
    "    40: {'id': 40, 'name': 'baseball glove'},\n",
    "    41: {'id': 41, 'name': 'skateboard'},\n",
    "    42: {'id': 42, 'name': 'surfboard'},\n",
    "    43: {'id': 43, 'name': 'tennis racket'},\n",
    "    44: {'id': 44, 'name': 'bottle'},\n",
    "    46: {'id': 46, 'name': 'wine glass'},\n",
    "    47: {'id': 47, 'name': 'cup'},\n",
    "    48: {'id': 48, 'name': 'fork'},\n",
    "    49: {'id': 49, 'name': 'knife'},\n",
    "    50: {'id': 50, 'name': 'spoon'},\n",
    "    51: {'id': 51, 'name': 'bowl'},\n",
    "    52: {'id': 52, 'name': 'banana'},\n",
    "    53: {'id': 53, 'name': 'apple'},\n",
    "    54: {'id': 54, 'name': 'sandwich'},\n",
    "    55: {'id': 55, 'name': 'orange'},\n",
    "    56: {'id': 56, 'name': 'broccoli'},\n",
    "    57: {'id': 57, 'name': 'carrot'},\n",
    "    58: {'id': 58, 'name': 'hot dog'},\n",
    "    59: {'id': 59, 'name': 'pizza'},\n",
    "    60: {'id': 60, 'name': 'donut'},\n",
    "    61: {'id': 61, 'name': 'cake'},\n",
    "    62: {'id': 62, 'name': 'chair'},\n",
    "    63: {'id': 63, 'name': 'couch'},\n",
    "    64: {'id': 64, 'name': 'potted plant'},\n",
    "    65: {'id': 65, 'name': 'bed'},\n",
    "    67: {'id': 67, 'name': 'dining table'},\n",
    "    70: {'id': 70, 'name': 'toilet'},\n",
    "    72: {'id': 72, 'name': 'tv'},\n",
    "    73: {'id': 73, 'name': 'laptop'},\n",
    "    74: {'id': 74, 'name': 'mouse'},\n",
    "    75: {'id': 75, 'name': 'remote'},\n",
    "    76: {'id': 76, 'name': 'keyboard'},\n",
    "    77: {'id': 77, 'name': 'cell phone'},\n",
    "    78: {'id': 78, 'name': 'microwave'},\n",
    "    79: {'id': 79, 'name': 'oven'},\n",
    "    80: {'id': 80, 'name': 'toaster'},\n",
    "    81: {'id': 81, 'name': 'sink'},\n",
    "    82: {'id': 82, 'name': 'refrigerator'},\n",
    "    84: {'id': 84, 'name': 'book'},\n",
    "    85: {'id': 85, 'name': 'clock'},\n",
    "    86: {'id': 86, 'name': 'vase'},\n",
    "    87: {'id': 87, 'name': 'scissors'},\n",
    "    88: {'id': 88, 'name': 'teddy bear'},\n",
    "    89: {'id': 89, 'name': 'hair drier'},\n",
    "    90: {'id': 90, 'name': 'toothbrush'},\n",
    "}"
   ]
  },
  {
   "cell_type": "code",
   "execution_count": 7,
   "metadata": {
    "colab": {
     "base_uri": "https://localhost:8080/"
    },
    "executionInfo": {
     "elapsed": 7959,
     "status": "ok",
     "timestamp": 1621699401487,
     "user": {
      "displayName": "Petr Hovorka",
      "photoUrl": "",
      "userId": "00305406887736674714"
     },
     "user_tz": -120
    },
    "id": "5JSzhv2lvrVC",
    "outputId": "66a51bd3-b047-4bdd-a468-50461f5badb0"
   },
   "outputs": [
    {
     "name": "stdout",
     "output_type": "stream",
     "text": [
      "--2021-06-19 22:58:34--  http://download.tensorflow.org/models/object_detection/tf2/20200711/efficientdet_d5_coco17_tpu-32.tar.gz\n",
      "Překládám download.tensorflow.org (download.tensorflow.org)… 172.217.23.208, 2a00:1450:4014:800::2010\n",
      "Navazuje se spojení s download.tensorflow.org (download.tensorflow.org)|172.217.23.208|:80… spojeno.\n",
      "HTTP požadavek odeslán, program čeká na odpověď… 304 Not Modified\n",
      "Soubor „efficientdet_d5_coco17_tpu-32.tar.gz“ nebyl na serveru změněn. Stažení se vynechává.\n",
      "\n",
      "mv: nelze přesunout 'efficientdet_d5_coco17_tpu-32/' do 'object_detection/test_data/efficientdet_d5_coco17_tpu-32': Adresář není prázdný\n"
     ]
    }
   ],
   "source": [
    "# Download the saved model and put it into models/research/object_detection/test_data/\n",
    "!wget -N http://download.tensorflow.org/models/object_detection/tf2/20200711/efficientdet_d5_coco17_tpu-32.tar.gz\n",
    "!tar -xf efficientdet_d5_coco17_tpu-32.tar.gz\n",
    "!mv efficientdet_d5_coco17_tpu-32/ object_detection/test_data/"
   ]
  },
  {
   "cell_type": "code",
   "execution_count": 8,
   "metadata": {
    "colab": {
     "base_uri": "https://localhost:8080/"
    },
    "executionInfo": {
     "elapsed": 74084,
     "status": "ok",
     "timestamp": 1621699513664,
     "user": {
      "displayName": "Petr Hovorka",
      "photoUrl": "",
      "userId": "00305406887736674714"
     },
     "user_tz": -120
    },
    "id": "y6PfThuyvuAr",
    "outputId": "eee39832-2155-4593-ee7b-bcbb5bfd92f5"
   },
   "outputs": [
    {
     "name": "stderr",
     "output_type": "stream",
     "text": [
      "WARNING:absl:Importing a function (__inference_EfficientDet-D5_layer_call_and_return_conditional_losses_187904) with ops with custom gradients. Will likely fail if a gradient is requested.\n",
      "WARNING:absl:Importing a function (__inference_bifpn_layer_call_and_return_conditional_losses_151339) with ops with custom gradients. Will likely fail if a gradient is requested.\n",
      "WARNING:absl:Importing a function (__inference_EfficientDet-D5_layer_call_and_return_conditional_losses_209730) with ops with custom gradients. Will likely fail if a gradient is requested.\n",
      "WARNING:absl:Importing a function (__inference_EfficientDet-D5_layer_call_and_return_conditional_losses_217912) with ops with custom gradients. Will likely fail if a gradient is requested.\n",
      "WARNING:absl:Importing a function (__inference_bifpn_layer_call_and_return_conditional_losses_147783) with ops with custom gradients. Will likely fail if a gradient is requested.\n",
      "WARNING:absl:Importing a function (__inference___call___50566) with ops with custom gradients. Will likely fail if a gradient is requested.\n",
      "WARNING:absl:Importing a function (__inference_EfficientDet-D5_layer_call_and_return_conditional_losses_196086) with ops with custom gradients. Will likely fail if a gradient is requested.\n"
     ]
    },
    {
     "name": "stdout",
     "output_type": "stream",
     "text": [
      "Elapsed time: 45.28249216079712s\n"
     ]
    }
   ],
   "source": [
    "start_time = time.time()\n",
    "tf.keras.backend.clear_session()\n",
    "detect_fn = tf.saved_model.load('object_detection/test_data/efficientdet_d5_coco17_tpu-32/saved_model')\n",
    "end_time = time.time()\n",
    "elapsed_time = end_time - start_time\n",
    "print('Elapsed time: ' + str(elapsed_time) + 's')"
   ]
  },
  {
   "cell_type": "code",
   "execution_count": 9,
   "metadata": {
    "colab": {
     "base_uri": "https://localhost:8080/",
     "height": 35
    },
    "executionInfo": {
     "elapsed": 8,
     "status": "ok",
     "timestamp": 1621699913014,
     "user": {
      "displayName": "Petr Hovorka",
      "photoUrl": "",
      "userId": "00305406887736674714"
     },
     "user_tz": -120
    },
    "id": "k5NMS6YxwlU7",
    "outputId": "2abe067a-22f7-4597-eb17-e297a1febfb4"
   },
   "outputs": [
    {
     "data": {
      "text/plain": [
       "[PhysicalDevice(name='/physical_device:CPU:0', device_type='CPU'),\n",
       " PhysicalDevice(name='/physical_device:GPU:0', device_type='GPU')]"
      ]
     },
     "execution_count": 9,
     "metadata": {},
     "output_type": "execute_result"
    }
   ],
   "source": [
    "image_dir = os.path.join('..','..','..','dataset','theatre_dataset_images')\n",
    "\n",
    "list_of_images = os.listdir(image_dir)\n",
    "\n",
    "output_dir = os.path.join('..','..','..','tf_output')\n",
    "\n",
    "if not os.path.exists(output_dir):\n",
    "    os.mkdir(output_dir)\n",
    "\n",
    "# Print available GPUs\n",
    "tf.config.list_physical_devices()\n"
   ]
  },
  {
   "cell_type": "code",
   "execution_count": 10,
   "metadata": {
    "colab": {
     "base_uri": "https://localhost:8080/",
     "height": 375
    },
    "executionInfo": {
     "elapsed": 130100,
     "status": "error",
     "timestamp": 1621699649092,
     "user": {
      "displayName": "Petr Hovorka",
      "photoUrl": "",
      "userId": "00305406887736674714"
     },
     "user_tz": -120
    },
    "id": "pqWYWFdywDKW",
    "outputId": "29c1c1e0-3e96-4924-cf90-4fbbbdbe367c"
   },
   "outputs": [
    {
     "ename": "KeyboardInterrupt",
     "evalue": "",
     "output_type": "error",
     "traceback": [
      "\u001b[0;31m---------------------------------------------------------------------------\u001b[0m",
      "\u001b[0;31mKeyboardInterrupt\u001b[0m                         Traceback (most recent call last)",
      "\u001b[0;32m<ipython-input-10-06cbd1f256f7>\u001b[0m in \u001b[0;36m<module>\u001b[0;34m\u001b[0m\n\u001b[1;32m      8\u001b[0m   \u001b[0minput_tensor\u001b[0m \u001b[0;34m=\u001b[0m \u001b[0mnp\u001b[0m\u001b[0;34m.\u001b[0m\u001b[0mexpand_dims\u001b[0m\u001b[0;34m(\u001b[0m\u001b[0mimage_np\u001b[0m\u001b[0;34m,\u001b[0m \u001b[0;36m0\u001b[0m\u001b[0;34m)\u001b[0m\u001b[0;34m\u001b[0m\u001b[0;34m\u001b[0m\u001b[0m\n\u001b[1;32m      9\u001b[0m   \u001b[0mstart_time\u001b[0m \u001b[0;34m=\u001b[0m \u001b[0mtime\u001b[0m\u001b[0;34m.\u001b[0m\u001b[0mtime\u001b[0m\u001b[0;34m(\u001b[0m\u001b[0;34m)\u001b[0m\u001b[0;34m\u001b[0m\u001b[0;34m\u001b[0m\u001b[0m\n\u001b[0;32m---> 10\u001b[0;31m   \u001b[0mdetections\u001b[0m \u001b[0;34m=\u001b[0m \u001b[0mdetect_fn\u001b[0m\u001b[0;34m(\u001b[0m\u001b[0minput_tensor\u001b[0m\u001b[0;34m)\u001b[0m\u001b[0;34m\u001b[0m\u001b[0;34m\u001b[0m\u001b[0m\n\u001b[0m\u001b[1;32m     11\u001b[0m   \u001b[0mend_time\u001b[0m \u001b[0;34m=\u001b[0m \u001b[0mtime\u001b[0m\u001b[0;34m.\u001b[0m\u001b[0mtime\u001b[0m\u001b[0;34m(\u001b[0m\u001b[0;34m)\u001b[0m\u001b[0;34m\u001b[0m\u001b[0;34m\u001b[0m\u001b[0m\n\u001b[1;32m     12\u001b[0m   \u001b[0melapsed\u001b[0m\u001b[0;34m.\u001b[0m\u001b[0mappend\u001b[0m\u001b[0;34m(\u001b[0m\u001b[0mend_time\u001b[0m \u001b[0;34m-\u001b[0m \u001b[0mstart_time\u001b[0m\u001b[0;34m)\u001b[0m\u001b[0;34m\u001b[0m\u001b[0;34m\u001b[0m\u001b[0m\n",
      "\u001b[0;32m~/.local/lib/python3.9/site-packages/tensorflow/python/saved_model/load.py\u001b[0m in \u001b[0;36m_call_attribute\u001b[0;34m(instance, *args, **kwargs)\u001b[0m\n\u001b[1;32m    668\u001b[0m \u001b[0;34m\u001b[0m\u001b[0m\n\u001b[1;32m    669\u001b[0m \u001b[0;32mdef\u001b[0m \u001b[0m_call_attribute\u001b[0m\u001b[0;34m(\u001b[0m\u001b[0minstance\u001b[0m\u001b[0;34m,\u001b[0m \u001b[0;34m*\u001b[0m\u001b[0margs\u001b[0m\u001b[0;34m,\u001b[0m \u001b[0;34m**\u001b[0m\u001b[0mkwargs\u001b[0m\u001b[0;34m)\u001b[0m\u001b[0;34m:\u001b[0m\u001b[0;34m\u001b[0m\u001b[0;34m\u001b[0m\u001b[0m\n\u001b[0;32m--> 670\u001b[0;31m   \u001b[0;32mreturn\u001b[0m \u001b[0minstance\u001b[0m\u001b[0;34m.\u001b[0m\u001b[0m__call__\u001b[0m\u001b[0;34m(\u001b[0m\u001b[0;34m*\u001b[0m\u001b[0margs\u001b[0m\u001b[0;34m,\u001b[0m \u001b[0;34m**\u001b[0m\u001b[0mkwargs\u001b[0m\u001b[0;34m)\u001b[0m\u001b[0;34m\u001b[0m\u001b[0;34m\u001b[0m\u001b[0m\n\u001b[0m\u001b[1;32m    671\u001b[0m \u001b[0;34m\u001b[0m\u001b[0m\n\u001b[1;32m    672\u001b[0m \u001b[0;34m\u001b[0m\u001b[0m\n",
      "\u001b[0;32m~/.local/lib/python3.9/site-packages/tensorflow/python/eager/def_function.py\u001b[0m in \u001b[0;36m__call__\u001b[0;34m(self, *args, **kwds)\u001b[0m\n\u001b[1;32m    887\u001b[0m \u001b[0;34m\u001b[0m\u001b[0m\n\u001b[1;32m    888\u001b[0m       \u001b[0;32mwith\u001b[0m \u001b[0mOptionalXlaContext\u001b[0m\u001b[0;34m(\u001b[0m\u001b[0mself\u001b[0m\u001b[0;34m.\u001b[0m\u001b[0m_jit_compile\u001b[0m\u001b[0;34m)\u001b[0m\u001b[0;34m:\u001b[0m\u001b[0;34m\u001b[0m\u001b[0;34m\u001b[0m\u001b[0m\n\u001b[0;32m--> 889\u001b[0;31m         \u001b[0mresult\u001b[0m \u001b[0;34m=\u001b[0m \u001b[0mself\u001b[0m\u001b[0;34m.\u001b[0m\u001b[0m_call\u001b[0m\u001b[0;34m(\u001b[0m\u001b[0;34m*\u001b[0m\u001b[0margs\u001b[0m\u001b[0;34m,\u001b[0m \u001b[0;34m**\u001b[0m\u001b[0mkwds\u001b[0m\u001b[0;34m)\u001b[0m\u001b[0;34m\u001b[0m\u001b[0;34m\u001b[0m\u001b[0m\n\u001b[0m\u001b[1;32m    890\u001b[0m \u001b[0;34m\u001b[0m\u001b[0m\n\u001b[1;32m    891\u001b[0m       \u001b[0mnew_tracing_count\u001b[0m \u001b[0;34m=\u001b[0m \u001b[0mself\u001b[0m\u001b[0;34m.\u001b[0m\u001b[0mexperimental_get_tracing_count\u001b[0m\u001b[0;34m(\u001b[0m\u001b[0;34m)\u001b[0m\u001b[0;34m\u001b[0m\u001b[0;34m\u001b[0m\u001b[0m\n",
      "\u001b[0;32m~/.local/lib/python3.9/site-packages/tensorflow/python/eager/def_function.py\u001b[0m in \u001b[0;36m_call\u001b[0;34m(self, *args, **kwds)\u001b[0m\n\u001b[1;32m    922\u001b[0m       \u001b[0;31m# In this case we have not created variables on the first call. So we can\u001b[0m\u001b[0;34m\u001b[0m\u001b[0;34m\u001b[0m\u001b[0;34m\u001b[0m\u001b[0m\n\u001b[1;32m    923\u001b[0m       \u001b[0;31m# run the first trace but we should fail if variables are created.\u001b[0m\u001b[0;34m\u001b[0m\u001b[0;34m\u001b[0m\u001b[0;34m\u001b[0m\u001b[0m\n\u001b[0;32m--> 924\u001b[0;31m       \u001b[0mresults\u001b[0m \u001b[0;34m=\u001b[0m \u001b[0mself\u001b[0m\u001b[0;34m.\u001b[0m\u001b[0m_stateful_fn\u001b[0m\u001b[0;34m(\u001b[0m\u001b[0;34m*\u001b[0m\u001b[0margs\u001b[0m\u001b[0;34m,\u001b[0m \u001b[0;34m**\u001b[0m\u001b[0mkwds\u001b[0m\u001b[0;34m)\u001b[0m\u001b[0;34m\u001b[0m\u001b[0;34m\u001b[0m\u001b[0m\n\u001b[0m\u001b[1;32m    925\u001b[0m       \u001b[0;32mif\u001b[0m \u001b[0mself\u001b[0m\u001b[0;34m.\u001b[0m\u001b[0m_created_variables\u001b[0m\u001b[0;34m:\u001b[0m\u001b[0;34m\u001b[0m\u001b[0;34m\u001b[0m\u001b[0m\n\u001b[1;32m    926\u001b[0m         raise ValueError(\"Creating variables on a non-first call to a function\"\n",
      "\u001b[0;32m~/.local/lib/python3.9/site-packages/tensorflow/python/eager/function.py\u001b[0m in \u001b[0;36m__call__\u001b[0;34m(self, *args, **kwargs)\u001b[0m\n\u001b[1;32m   3021\u001b[0m       (graph_function,\n\u001b[1;32m   3022\u001b[0m        filtered_flat_args) = self._maybe_define_function(args, kwargs)\n\u001b[0;32m-> 3023\u001b[0;31m     return graph_function._call_flat(\n\u001b[0m\u001b[1;32m   3024\u001b[0m         filtered_flat_args, captured_inputs=graph_function.captured_inputs)  # pylint: disable=protected-access\n\u001b[1;32m   3025\u001b[0m \u001b[0;34m\u001b[0m\u001b[0m\n",
      "\u001b[0;32m~/.local/lib/python3.9/site-packages/tensorflow/python/eager/function.py\u001b[0m in \u001b[0;36m_call_flat\u001b[0;34m(self, args, captured_inputs, cancellation_manager)\u001b[0m\n\u001b[1;32m   1958\u001b[0m         and executing_eagerly):\n\u001b[1;32m   1959\u001b[0m       \u001b[0;31m# No tape is watching; skip to running the function.\u001b[0m\u001b[0;34m\u001b[0m\u001b[0;34m\u001b[0m\u001b[0;34m\u001b[0m\u001b[0m\n\u001b[0;32m-> 1960\u001b[0;31m       return self._build_call_outputs(self._inference_function.call(\n\u001b[0m\u001b[1;32m   1961\u001b[0m           ctx, args, cancellation_manager=cancellation_manager))\n\u001b[1;32m   1962\u001b[0m     forward_backward = self._select_forward_and_backward_functions(\n",
      "\u001b[0;32m~/.local/lib/python3.9/site-packages/tensorflow/python/eager/function.py\u001b[0m in \u001b[0;36mcall\u001b[0;34m(self, ctx, args, cancellation_manager)\u001b[0m\n\u001b[1;32m    589\u001b[0m       \u001b[0;32mwith\u001b[0m \u001b[0m_InterpolateFunctionError\u001b[0m\u001b[0;34m(\u001b[0m\u001b[0mself\u001b[0m\u001b[0;34m)\u001b[0m\u001b[0;34m:\u001b[0m\u001b[0;34m\u001b[0m\u001b[0;34m\u001b[0m\u001b[0m\n\u001b[1;32m    590\u001b[0m         \u001b[0;32mif\u001b[0m \u001b[0mcancellation_manager\u001b[0m \u001b[0;32mis\u001b[0m \u001b[0;32mNone\u001b[0m\u001b[0;34m:\u001b[0m\u001b[0;34m\u001b[0m\u001b[0;34m\u001b[0m\u001b[0m\n\u001b[0;32m--> 591\u001b[0;31m           outputs = execute.execute(\n\u001b[0m\u001b[1;32m    592\u001b[0m               \u001b[0mstr\u001b[0m\u001b[0;34m(\u001b[0m\u001b[0mself\u001b[0m\u001b[0;34m.\u001b[0m\u001b[0msignature\u001b[0m\u001b[0;34m.\u001b[0m\u001b[0mname\u001b[0m\u001b[0;34m)\u001b[0m\u001b[0;34m,\u001b[0m\u001b[0;34m\u001b[0m\u001b[0;34m\u001b[0m\u001b[0m\n\u001b[1;32m    593\u001b[0m               \u001b[0mnum_outputs\u001b[0m\u001b[0;34m=\u001b[0m\u001b[0mself\u001b[0m\u001b[0;34m.\u001b[0m\u001b[0m_num_outputs\u001b[0m\u001b[0;34m,\u001b[0m\u001b[0;34m\u001b[0m\u001b[0;34m\u001b[0m\u001b[0m\n",
      "\u001b[0;32m~/.local/lib/python3.9/site-packages/tensorflow/python/eager/execute.py\u001b[0m in \u001b[0;36mquick_execute\u001b[0;34m(op_name, num_outputs, inputs, attrs, ctx, name)\u001b[0m\n\u001b[1;32m     57\u001b[0m   \u001b[0;32mtry\u001b[0m\u001b[0;34m:\u001b[0m\u001b[0;34m\u001b[0m\u001b[0;34m\u001b[0m\u001b[0m\n\u001b[1;32m     58\u001b[0m     \u001b[0mctx\u001b[0m\u001b[0;34m.\u001b[0m\u001b[0mensure_initialized\u001b[0m\u001b[0;34m(\u001b[0m\u001b[0;34m)\u001b[0m\u001b[0;34m\u001b[0m\u001b[0;34m\u001b[0m\u001b[0m\n\u001b[0;32m---> 59\u001b[0;31m     tensors = pywrap_tfe.TFE_Py_Execute(ctx._handle, device_name, op_name,\n\u001b[0m\u001b[1;32m     60\u001b[0m                                         inputs, attrs, num_outputs)\n\u001b[1;32m     61\u001b[0m   \u001b[0;32mexcept\u001b[0m \u001b[0mcore\u001b[0m\u001b[0;34m.\u001b[0m\u001b[0m_NotOkStatusException\u001b[0m \u001b[0;32mas\u001b[0m \u001b[0me\u001b[0m\u001b[0;34m:\u001b[0m\u001b[0;34m\u001b[0m\u001b[0;34m\u001b[0m\u001b[0m\n",
      "\u001b[0;31mKeyboardInterrupt\u001b[0m: "
     ]
    }
   ],
   "source": [
    "#image_dir = 'models/research/object_detection/test_images'\n",
    "\n",
    "elapsed = []\n",
    "for i in range(len(list_of_images)):\n",
    "  #image_path = os.path.join(image_dir, 'image' + str(i + 1) + '.jpg')\n",
    "  image_path = os.path.join(image_dir, list_of_images[i])\n",
    "  image_np = load_image_into_numpy_array(image_path)\n",
    "  input_tensor = np.expand_dims(image_np, 0)\n",
    "  start_time = time.time()\n",
    "  detections = detect_fn(input_tensor)\n",
    "  end_time = time.time()\n",
    "  elapsed.append(end_time - start_time)\n",
    "\n",
    "  plt.rcParams['figure.figsize'] = [42, 21]\n",
    "  label_id_offset = 1\n",
    "  image_np_with_detections = image_np.copy()\n",
    "  viz_utils.visualize_boxes_and_labels_on_image_array(\n",
    "        image_np_with_detections,\n",
    "        detections['detection_boxes'][0].numpy(),\n",
    "        detections['detection_classes'][0].numpy().astype(np.int32),\n",
    "        detections['detection_scores'][0].numpy(),\n",
    "        category_index,\n",
    "        use_normalized_coordinates=True,\n",
    "        max_boxes_to_draw=200,\n",
    "        min_score_thresh=.40,\n",
    "        agnostic_mode=False)\n",
    "  #plt.subplot(128, 1, i+1)\n",
    "\n",
    "  fig = plt.figure(frameon=False)\n",
    "  fig.set_size_inches(12,9)\n",
    "  ax = plt.Axes(fig, [0., 0., 1., 1.])\n",
    "  ax.set_axis_off()\n",
    "  fig.add_axes(ax)\n",
    "  ax.imshow(image_np_with_detections, aspect='auto')\n",
    "  output_path = os.path.join(output_dir, list_of_images[i])\n",
    "  fig.savefig(output_path)\n",
    "  plt.close(fig) \n",
    "  \n",
    "\n",
    "  # plt.imshow(image_np_with_detections)\n",
    "\n",
    "mean_elapsed = sum(elapsed) / float(len(elapsed))\n",
    "print('Elapsed time: ' + str(mean_elapsed) + ' second per image')"
   ]
  }
 ],
 "metadata": {
  "accelerator": "GPU",
  "colab": {
   "authorship_tag": "ABX9TyP6UBytBGkZFGzahR6AJbUl",
   "mount_file_id": "1aV3J0Kd_oiFQtbGa1NMokWD1-KN0JIxL",
   "name": "Test_object_recognition.ipynb",
   "provenance": []
  },
  "kernelspec": {
   "display_name": "Python 3",
   "language": "python",
   "name": "python3"
  },
  "language_info": {
   "codemirror_mode": {
    "name": "ipython",
    "version": 3
   },
   "file_extension": ".py",
   "mimetype": "text/x-python",
   "name": "python",
   "nbconvert_exporter": "python",
   "pygments_lexer": "ipython3",
   "version": "3.9.5"
  }
 },
 "nbformat": 4,
 "nbformat_minor": 1
}
